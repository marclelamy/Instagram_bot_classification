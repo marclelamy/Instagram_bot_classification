{
 "cells": [
  {
   "cell_type": "markdown",
   "metadata": {},
   "source": [
    "# 1. File description \n",
    "\n",
    "To feed a model for it to predict a bot from a legit users I need the data to be labelled meaning each user in the dataset needs to have a 1 or 0 for bot/not bot. This file is meant to do so.\n",
    "\n",
    "To label the data, multiple techniques are gonna be used and are divided in three. Manual, semi-manual and automatic labelling. \n",
    "\n",
    "Automatic: \n",
    "* Look at bot labelled and check for other users with the same photo. From previous iteration of the project, I have a folder with about 800 of bots photos that I previously found manually. Now, I just check if a user's profile pic is similar to any, if yes, it's a bot. That's the easiest way and the only one where I don't have to check other details of the bot as if two users have the same photo and one is a bot, the other is too.\n",
    "\n",
    "Semi-manual:\n",
    "* Look at the bots having a scam domain.\n",
    "* Use NSFW pre-trained models to get images score for Neutral, Drawing, Hentai, Sexual, Porn and looking at the profile that have a high score for porn + sexy as most bots have nude photos\n",
    "* Look at a subset of data where I belive bots are\n",
    "    * Around 200 likes on their comment\n",
    "    * 12 or less photos\n",
    "    * Always have a link in their bio\n",
    "* Find same/similar comments from labelled users \n",
    "* Pattern in Bio/description\n",
    "* Look at the keyword of the flagged bots in comments and profile, look at profile that are similar to bots. \n",
    "* After labelling abunch of users, build a weak model to help in the labelling by making predictions. As long as the model is better than random, it'll be helpful.\n",
    "\n"
   ]
  },
  {
   "cell_type": "markdown",
   "metadata": {},
   "source": [
    "## 0. Import module and setting notebook preferences\n",
    "\n",
    "### 0.1 Import modules"
   ]
  },
  {
   "cell_type": "code",
   "execution_count": 52,
   "metadata": {},
   "outputs": [],
   "source": [
    "import src.useful as su\n",
    "\n",
    "import pandas as pd \n",
    "import numpy as np\n",
    "import sqlite3 \n",
    "\n",
    "import plotly.io as pio\n",
    "\n",
    "# For image manipulation \n",
    "from PIL import Image, ImageDraw, ImageFont, UnidentifiedImageError\n",
    "\n",
    "import os\n",
    "import shutil"
   ]
  },
  {
   "cell_type": "markdown",
   "metadata": {},
   "source": [
    "### 0.2 Notebook preferences"
   ]
  },
  {
   "cell_type": "code",
   "execution_count": 35,
   "metadata": {},
   "outputs": [],
   "source": [
    "pd.set_option(\"display.max_columns\", None)\n",
    "pio.templates.default = \"plotly_dark\"\n",
    "\n",
    "# Creating SQL database to store all the data for the project\n",
    "database = \"data/main_database.sqlite\"\n",
    "con = sqlite3.connect(database)"
   ]
  },
  {
   "cell_type": "markdown",
   "metadata": {},
   "source": [
    "## 1. Manual labelling \n",
    "\n",
    "To label the data manually, the process has to be fast, I need to see all the information about the users condensed in one summary. For that, I chose to create for each user an image with their attributes and their photos. I'll then create a script to open one image by one, and then chose bot/not bot/maybe bot with keyboard arrows. \n",
    "\n"
   ]
  },
  {
   "cell_type": "code",
   "execution_count": 36,
   "metadata": {},
   "outputs": [],
   "source": [
    "# Load the data and display only the one from a \n",
    "query = '''\n",
    "select \n",
    "    * \n",
    "from comments\n",
    "'''\n",
    "\n",
    "df_comments = pd.read_sql_query(query, con)\n",
    "pages = list(set(df_comments['page']))"
   ]
  },
  {
   "cell_type": "code",
   "execution_count": null,
   "metadata": {},
   "outputs": [],
   "source": []
  },
  {
   "cell_type": "markdown",
   "metadata": {},
   "source": [
    "### 1.1 UDFs"
   ]
  },
  {
   "cell_type": "code",
   "execution_count": 92,
   "metadata": {},
   "outputs": [],
   "source": [
    "def generate_card(username):\n",
    "    df_user = df_main[df_main[\"username\"]==username].reset_index(drop=True)\n",
    "\n",
    "    # Create new image\n",
    "    global_image = Image.new(\"RGB\", (1300, 550), \"white\")\n",
    "    draw = ImageDraw.Draw(global_image)\n",
    "    font = ImageFont.truetype(\"/Users/marclamy/Downloads/Open_Sans/static/OpenSans/OpenSans-Light.ttf\", 15)\n",
    "\n",
    "    # Open user pp and add it to the global image\n",
    "    try:\n",
    "        path = f\"data/photos/user_profile_pictures/{username}_pp_user_photo.png\"\n",
    "        profile_pic = Image.open(path)\n",
    "        global_image.paste(profile_pic, (250, 0))\n",
    "    except FileNotFoundError: \n",
    "        pass\n",
    "\n",
    "    # Creating a list of position to add the photos on the global image\n",
    "    positions = []\n",
    "    for x in range(850, 1300, 150):\n",
    "        for y in range(0, 450, 150):\n",
    "            positions.append((x, y))\n",
    "\n",
    "\n",
    "    # Loop trhough each image and add it to the global image\n",
    "    # user_last12_path = f\"data/7_user_last_12_csv/{username}_last12.csv\"\n",
    "    # if os.path.exists(user_last12_path):\n",
    "    #     last_12 = pd.read_csv(user_last12_path)\n",
    "    for image_num in range(12):\n",
    "        path = f\"data/photos/user_last_12_posts/{username}_{str(image_num)}_user_photo.png\"\n",
    "        \n",
    "        try:\n",
    "            if os.path.exists(path):\n",
    "                img = Image.open(path)\n",
    "                if image_num < 9:\n",
    "                    global_image.paste(img.resize((150, 150)), positions[image_num])\n",
    "                elif image_num == 9:\n",
    "                    global_image.paste(img.resize((150, 150)), (400, 0))\n",
    "                elif image_num == 10:   \n",
    "                    global_image.paste(img.resize((150, 150)), (550, 0))\n",
    "                elif image_num == 11:\n",
    "                    global_image.paste(img.resize((150, 150)), (700, 0))\n",
    "        except (OSError, UnidentifiedImageError) as e: # For truncated image file\n",
    "            print(\"OSError/PIL: \", e)\n",
    "\n",
    "\n",
    "\n",
    "    # Add basic information to the global image\n",
    "    username = df_user.loc[0, \"username\"]\n",
    "    draw.text((10, 5), f\"Username: {username}\", font=font, fill=\"black\")\n",
    "\n",
    "    follower_count = df_user.loc[0, \"follower_count\"]\n",
    "    color = \"black\" if follower_count > 800 else \"red\"\n",
    "    draw.text((10, 25), f\"Followers: {follower_count:,}\", font=font, fill=color)\n",
    "\n",
    "    following_count = df_user.loc[0, \"follow_count\"]\n",
    "    draw.text((10, 45), f\"Following: {following_count:,}\", font=font, fill=\"black\")\n",
    "\n",
    "    post_count = df_user.loc[0, \"post_count\"]\n",
    "    color = \"black\" if post_count > 16 else \"red\"\n",
    "    draw.text((10, 65), f\"Post count: {post_count}\", font=font, fill=color)\n",
    "\n",
    "    video_count = df_user.loc[0, \"video_count\"]\n",
    "    draw.text((10, 85), f\"Video count: {video_count}\", font=font, fill=\"black\")\n",
    "\n",
    "    comment_likes = round(df_user[\"comment_likes\"].mean())\n",
    "    draw.text((10, 105), f\"Comment_likes: {comment_likes}\", font=font, fill=\"black\")\n",
    "\n",
    "    external_url = df_user.loc[0, \"domain\"]\n",
    "    draw.text((10, 125), f\"{external_url}\", font=font, fill=\"black\")\n",
    "\n",
    "    biography = df_user.loc[0, \"biography\"]\n",
    "    draw.text((10, 145), f\"{biography}\", font=font, fill=\"black\")\n",
    "\n",
    "\n",
    "    # Save screenshot, open it, resize it, add it to global_image and deleting the file\n",
    "    path = f\"igbotdata/website_screenshot/{username}_website_photo.png\"\n",
    "    try:\n",
    "        screenshot = Image.open(path)\n",
    "        global_image.paste(screenshot.resize((500, 300)), (350, 150))\n",
    "    except (UnidentifiedImageError, FileNotFoundError):\n",
    "        pass\n",
    "\n",
    "\n",
    "    # Export image\n",
    "    # global_image.save(f\"data/igbot_image_summary/move_summary{username}_image_summary.png\")\n",
    "    return global_image\n",
    "\n",
    "\n",
    "\n",
    "\n",
    "\n",
    "username = np.random.choice(df_main.query('post_count >= 12')['username'])\n",
    "generate_card(username)"
   ]
  },
  {
   "cell_type": "code",
   "execution_count": null,
   "metadata": {},
   "outputs": [],
   "source": []
  },
  {
   "cell_type": "code",
   "execution_count": null,
   "metadata": {},
   "outputs": [],
   "source": []
  },
  {
   "cell_type": "code",
   "execution_count": null,
   "metadata": {},
   "outputs": [],
   "source": []
  }
 ],
 "metadata": {
  "kernelspec": {
   "display_name": "Python 3.8.13 ('main_env')",
   "language": "python",
   "name": "python3"
  },
  "language_info": {
   "codemirror_mode": {
    "name": "ipython",
    "version": 3
   },
   "file_extension": ".py",
   "mimetype": "text/x-python",
   "name": "python",
   "nbconvert_exporter": "python",
   "pygments_lexer": "ipython3",
   "version": "3.8.13"
  },
  "orig_nbformat": 4,
  "vscode": {
   "interpreter": {
    "hash": "06d12861cad82bdcdde1b56bd9eda52e91f7df29dabbeda8f3d9112222750302"
   }
  }
 },
 "nbformat": 4,
 "nbformat_minor": 2
}
